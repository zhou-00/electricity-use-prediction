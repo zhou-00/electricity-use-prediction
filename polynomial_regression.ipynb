{
 "cells": [
  {
   "cell_type": "code",
   "execution_count": 1,
   "metadata": {},
   "outputs": [],
   "source": [
    "import pandas as pd\n",
    "import matplotlib.pyplot as plt\n",
    "import numpy as np\n",
    "import tensorflow as tf\n",
    "\n",
    "import sklearn as sk\n",
    "from sklearn import linear_model\n",
    "from sklearn.preprocessing import PolynomialFeatures\n",
    "from sklearn.preprocessing import MinMaxScaler\n",
    "from sklearn.model_selection import RandomizedSearchCV, GridSearchCV, cross_val_score, KFold, train_test_split\n",
    "from sklearn.pipeline import Pipeline\n",
    "\n",
    "import warnings"
   ]
  },
  {
   "cell_type": "code",
   "execution_count": 2,
   "metadata": {},
   "outputs": [],
   "source": [
    "energyFrame = pd.read_csv(\"UCI_data.csv\")\n",
    "energy = energyFrame.values"
   ]
  },
  {
   "cell_type": "code",
   "execution_count": 3,
   "metadata": {},
   "outputs": [],
   "source": [
    "# split the data\n",
    "X = energy[:, 1:(energy.shape[1]-1)]\n",
    "y = energy[:, -1]"
   ]
  },
  {
   "cell_type": "code",
   "execution_count": 4,
   "metadata": {},
   "outputs": [],
   "source": [
    "def search_results(bestModel):\n",
    "    best = bestModel.best_index_\n",
    "    results = bestModel.cv_results_\n",
    "\n",
    "    train_scores = [results['split0_train_score'][best],\n",
    "                    results['split1_train_score'][best],\n",
    "                    results['split2_train_score'][best],\n",
    "                    results['split3_train_score'][best],\n",
    "                    results['split3_train_score'][best]]\n",
    "\n",
    "    test_scores = [results['split0_test_score'][best],\n",
    "                   results['split1_test_score'][best],\n",
    "                   results['split2_test_score'][best],\n",
    "                   results['split3_test_score'][best],\n",
    "                   results['split3_test_score'][best]]\n",
    "\n",
    "\n",
    "    print(\"BEST ESTIMATOR: {}\".format(results['params'][best]))\n",
    "    print()\n",
    "    for i in range(0,5,1):\n",
    "        print(\"Fold {}: (Train MSE: {:.4f}, test MSE: {:.4f})\".format(i+1,\n",
    "                                                                      train_scores[i],\n",
    "                                                                      test_scores[i]))\n",
    "    print()\n",
    "    print(\"Mean train score: {}\".format(results['mean_train_score'][best]))\n",
    "    print(\"Std train score: {}\".format(results['std_train_score'][best]))\n",
    "    print()\n",
    "    print(\"Mean test score: {}\".format(results['mean_test_score'][best]))\n",
    "    print(\"Std test score: {}\".format(results['std_test_score'][best]))\n",
    "    print()"
   ]
  },
  {
   "cell_type": "code",
   "execution_count": 5,
   "metadata": {},
   "outputs": [],
   "source": [
    "def cv_results(scores):\n",
    "    print(\"OVERALL CROSS-VALIDATED SCORE\\n\")\n",
    "    for i,score in enumerate(list(scores)):\n",
    "        print(\"Fold {} cross-val score: {:.4f}\".format(i+1,score))\n",
    "    print()\n",
    "    print(\"Mean cross-val. score: {}\".format(np.mean(scores)))"
   ]
  },
  {
   "cell_type": "code",
   "execution_count": 6,
   "metadata": {},
   "outputs": [],
   "source": [
    "# Parameter search values\n",
    "\n",
    "polyParam = list(range(1,4)) # polynomials of degree 1,2,3,4\n",
    "alphaParam = [0.01, 0.1, 0.5, 1, 5, 10] # regularisation parameters"
   ]
  },
  {
   "cell_type": "code",
   "execution_count": 7,
   "metadata": {
    "scrolled": true
   },
   "outputs": [
    {
     "name": "stdout",
     "output_type": "stream",
     "text": [
      "Fitting 5 folds for each of 10 candidates, totalling 50 fits\n"
     ]
    },
    {
     "name": "stderr",
     "output_type": "stream",
     "text": [
      "[Parallel(n_jobs=-1)]: Using backend LokyBackend with 4 concurrent workers.\n",
      "[Parallel(n_jobs=-1)]: Done  33 tasks      | elapsed:  5.6min\n",
      "[Parallel(n_jobs=-1)]: Done  50 out of  50 | elapsed:  9.7min finished\n"
     ]
    },
    {
     "name": "stdout",
     "output_type": "stream",
     "text": [
      "BEST ESTIMATOR: {'poly__degree': 2, 'lasso__alpha': 0.01}\n",
      "\n",
      "Fold 1: (Train MSE: -8711.2749, test MSE: -8917.1478)\n",
      "Fold 2: (Train MSE: -8877.9468, test MSE: -8160.6759)\n",
      "Fold 3: (Train MSE: -8695.9843, test MSE: -8940.3905)\n",
      "Fold 4: (Train MSE: -8747.0708, test MSE: -8719.7419)\n",
      "Fold 5: (Train MSE: -8747.0708, test MSE: -8719.7419)\n",
      "\n",
      "Mean train score: -8725.92969312208\n",
      "Std train score: 90.76870829671266\n",
      "\n",
      "Mean test score: -8817.526522206412\n",
      "Std test score: 387.09639793606215\n",
      "\n",
      "Fitting 5 folds for each of 10 candidates, totalling 50 fits\n"
     ]
    },
    {
     "name": "stderr",
     "output_type": "stream",
     "text": [
      "[Parallel(n_jobs=-1)]: Using backend LokyBackend with 4 concurrent workers.\n",
      "[Parallel(n_jobs=-1)]: Done  33 tasks      | elapsed:  4.1min\n",
      "[Parallel(n_jobs=-1)]: Done  50 out of  50 | elapsed:  4.5min finished\n"
     ]
    },
    {
     "name": "stdout",
     "output_type": "stream",
     "text": [
      "Fitting 5 folds for each of 10 candidates, totalling 50 fits\n"
     ]
    },
    {
     "name": "stderr",
     "output_type": "stream",
     "text": [
      "[Parallel(n_jobs=-1)]: Using backend LokyBackend with 4 concurrent workers.\n",
      "[Parallel(n_jobs=-1)]: Done  33 tasks      | elapsed:  3.5min\n",
      "[Parallel(n_jobs=-1)]: Done  50 out of  50 | elapsed:  7.7min finished\n"
     ]
    },
    {
     "name": "stdout",
     "output_type": "stream",
     "text": [
      "Fitting 5 folds for each of 10 candidates, totalling 50 fits\n"
     ]
    },
    {
     "name": "stderr",
     "output_type": "stream",
     "text": [
      "[Parallel(n_jobs=-1)]: Using backend LokyBackend with 4 concurrent workers.\n",
      "[Parallel(n_jobs=-1)]: Done  33 tasks      | elapsed:  2.4min\n",
      "[Parallel(n_jobs=-1)]: Done  50 out of  50 | elapsed:  3.6min finished\n"
     ]
    },
    {
     "name": "stdout",
     "output_type": "stream",
     "text": [
      "Fitting 5 folds for each of 10 candidates, totalling 50 fits\n"
     ]
    },
    {
     "name": "stderr",
     "output_type": "stream",
     "text": [
      "[Parallel(n_jobs=-1)]: Using backend LokyBackend with 4 concurrent workers.\n",
      "[Parallel(n_jobs=-1)]: Done  33 tasks      | elapsed:   56.2s\n",
      "[Parallel(n_jobs=-1)]: Done  50 out of  50 | elapsed:   59.5s finished\n"
     ]
    },
    {
     "name": "stdout",
     "output_type": "stream",
     "text": [
      "Fitting 5 folds for each of 10 candidates, totalling 50 fits\n"
     ]
    },
    {
     "name": "stderr",
     "output_type": "stream",
     "text": [
      "[Parallel(n_jobs=-1)]: Using backend LokyBackend with 4 concurrent workers.\n",
      "[Parallel(n_jobs=-1)]: Done  33 tasks      | elapsed:  4.9min\n",
      "[Parallel(n_jobs=-1)]: Done  50 out of  50 | elapsed:  8.1min finished\n"
     ]
    },
    {
     "name": "stdout",
     "output_type": "stream",
     "text": [
      "OVERALL CROSS-VALIDATED SCORE\n",
      "\n",
      "Fold 1 cross-val score: -9243.3044\n",
      "Fold 2 cross-val score: -7913.2424\n",
      "Fold 3 cross-val score: -8940.3905\n",
      "Fold 4 cross-val score: -8719.7419\n",
      "Fold 5 cross-val score: -9054.8228\n",
      "\n",
      "Mean cross-val. score: -8774.300401542676\n"
     ]
    }
   ],
   "source": [
    "# Nested cross-validation to find best parameters for Lasso regression\n",
    "warnings.simplefilter(\"ignore\")\n",
    "\n",
    "inner_cv = KFold(n_splits=5, shuffle=True, random_state=1234)\n",
    "outer_cv = KFold(n_splits=5, shuffle=True, random_state=1234)\n",
    "\n",
    "polyLassoModel = Pipeline([(\"poly\", PolynomialFeatures(include_bias=True)),\n",
    "                           (\"scaler\", MinMaxScaler()),\n",
    "                           (\"lasso\", linear_model.Lasso())])\n",
    "\n",
    "searchParam = dict(poly__degree=polyParam,\n",
    "                   lasso__alpha=alphaParam)\n",
    "\n",
    "bestLassoModel = RandomizedSearchCV(estimator=polyLassoModel,\n",
    "                                    param_distributions=searchParam,\n",
    "                                    scoring=\"neg_mean_squared_error\",\n",
    "                                    cv=inner_cv,\n",
    "                                    refit=True,\n",
    "                                    return_train_score=True,\n",
    "                                    n_iter=10, n_jobs=-1, verbose=2)\n",
    "\n",
    "# Get search results\n",
    "bestLassoModel.fit(X,y)\n",
    "search_results(bestLassoModel)\n",
    "\n",
    "lasso_cv_scores = cross_val_score(bestLassoModel, X, y, cv=outer_cv)\n",
    "cv_results(lasso_cv_scores)"
   ]
  },
  {
   "cell_type": "code",
   "execution_count": null,
   "metadata": {},
   "outputs": [],
   "source": []
  }
 ],
 "metadata": {
  "kernelspec": {
   "display_name": "Python 3",
   "language": "python",
   "name": "python3"
  },
  "language_info": {
   "codemirror_mode": {
    "name": "ipython",
    "version": 3
   },
   "file_extension": ".py",
   "mimetype": "text/x-python",
   "name": "python",
   "nbconvert_exporter": "python",
   "pygments_lexer": "ipython3",
   "version": "3.7.7"
  }
 },
 "nbformat": 4,
 "nbformat_minor": 4
}
