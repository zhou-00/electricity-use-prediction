{
 "cells": [
  {
   "cell_type": "code",
   "execution_count": 1,
   "metadata": {},
   "outputs": [],
   "source": [
    "import pandas as pd\n",
    "import matplotlib.pyplot as plt\n",
    "import numpy as np\n",
    "import tensorflow as tf\n",
    "\n",
    "import sklearn as sk\n",
    "from sklearn import linear_model\n",
    "from sklearn.preprocessing import PolynomialFeatures\n",
    "from sklearn.preprocessing import MinMaxScaler\n",
    "from sklearn.model_selection import RandomizedSearchCV, GridSearchCV, cross_val_score, KFold, train_test_split\n",
    "from sklearn.pipeline import Pipeline\n",
    "\n",
    "import warnings"
   ]
  },
  {
   "cell_type": "code",
   "execution_count": 2,
   "metadata": {},
   "outputs": [],
   "source": [
    "energyFrame = pd.read_csv(\"UCI_data.csv\")\n",
    "energy = energyFrame.values"
   ]
  },
  {
   "cell_type": "code",
   "execution_count": 3,
   "metadata": {},
   "outputs": [],
   "source": [
    "# split the data\n",
    "X = energy[:, 1:(energy.shape[1]-1)]\n",
    "y = energy[:, -1]"
   ]
  },
  {
   "cell_type": "code",
   "execution_count": 4,
   "metadata": {},
   "outputs": [],
   "source": [
    "def search_results(bestModel):\n",
    "    best = bestModel.best_index_\n",
    "    results = bestModel.cv_results_\n",
    "\n",
    "    train_scores = [results['split0_train_score'][best],\n",
    "                    results['split1_train_score'][best],\n",
    "                    results['split2_train_score'][best],\n",
    "                    results['split3_train_score'][best],\n",
    "                    results['split3_train_score'][best]]\n",
    "\n",
    "    test_scores = [results['split0_test_score'][best],\n",
    "                   results['split1_test_score'][best],\n",
    "                   results['split2_test_score'][best],\n",
    "                   results['split3_test_score'][best],\n",
    "                   results['split3_test_score'][best]]\n",
    "\n",
    "\n",
    "    print(\"BEST ESTIMATOR: {}\".format(results['params'][best]))\n",
    "    print()\n",
    "    for i in range(0,5,1):\n",
    "        print(\"Fold {}: (Train MSE: {:.4f}, test MSE: {:.4f})\".format(i+1,\n",
    "                                                                      train_scores[i],\n",
    "                                                                      test_scores[i]))\n",
    "    print()\n",
    "    print(\"Mean train score: {}\".format(results['mean_train_score'][best]))\n",
    "    print(\"Std train score: {}\".format(results['std_train_score'][best]))\n",
    "    print()\n",
    "    print(\"Mean test score: {}\".format(results['mean_test_score'][best]))\n",
    "    print(\"Std test score: {}\".format(results['std_test_score'][best]))\n",
    "    print()"
   ]
  },
  {
   "cell_type": "code",
   "execution_count": 5,
   "metadata": {},
   "outputs": [],
   "source": [
    "def cv_results(scores):\n",
    "    print(\"OVERALL CROSS-VALIDATED SCORE\\n\")\n",
    "    for i,score in enumerate(list(scores)):\n",
    "        print(\"Fold {} cross-val score: {:.4f}\".format(i+1,score))\n",
    "    print()\n",
    "    print(\"Mean cross-val. score: {}\".format(np.mean(scores)))"
   ]
  },
  {
   "cell_type": "code",
   "execution_count": 8,
   "metadata": {},
   "outputs": [],
   "source": [
    "# Parameter search values\n",
    "\n",
    "polyParam = list(range(1,4)) # polynomials of degree 1,2,3,4\n",
    "alphaParam = [0.01, 0.1, 0.5, 1, 5, 10] # regularisation parameters"
   ]
  },
  {
   "cell_type": "code",
   "execution_count": 9,
   "metadata": {
    "scrolled": true
   },
   "outputs": [
    {
     "name": "stdout",
     "output_type": "stream",
     "text": [
      "Fitting 5 folds for each of 10 candidates, totalling 50 fits\n"
     ]
    },
    {
     "name": "stderr",
     "output_type": "stream",
     "text": [
      "[Parallel(n_jobs=-1)]: Using backend LokyBackend with 4 concurrent workers.\n",
      "[Parallel(n_jobs=-1)]: Done   5 tasks      | elapsed:   22.4s\n",
      "[Parallel(n_jobs=-1)]: Done  10 tasks      | elapsed:   24.8s\n",
      "[Parallel(n_jobs=-1)]: Done  17 tasks      | elapsed:  2.0min\n",
      "[Parallel(n_jobs=-1)]: Done  24 tasks      | elapsed:  2.3min\n",
      "[Parallel(n_jobs=-1)]: Done  33 tasks      | elapsed:  2.4min\n",
      "[Parallel(n_jobs=-1)]: Done  42 tasks      | elapsed:  4.5min\n",
      "[Parallel(n_jobs=-1)]: Done  50 out of  50 | elapsed:  5.2min finished\n"
     ]
    },
    {
     "name": "stdout",
     "output_type": "stream",
     "text": [
      "BEST ESTIMATOR: {'poly__degree': 3, 'lasso__alpha': 0.01}\n",
      "\n",
      "Fold 1: (Train MSE: -8370.9526, test MSE: -8595.5709)\n",
      "Fold 2: (Train MSE: -8518.0900, test MSE: -7913.2424)\n",
      "Fold 3: (Train MSE: -8322.8588, test MSE: -8699.4224)\n",
      "Fold 4: (Train MSE: -8397.4305, test MSE: -8455.3829)\n",
      "Fold 5: (Train MSE: -8397.4305, test MSE: -8455.3829)\n",
      "\n",
      "Mean train score: -8373.612213020535\n",
      "Std train score: 86.28124365038413\n",
      "\n",
      "Mean test score: -8543.68826438694\n",
      "Std test score: 372.4146459874614\n",
      "\n",
      "Fitting 5 folds for each of 10 candidates, totalling 50 fits\n"
     ]
    },
    {
     "name": "stderr",
     "output_type": "stream",
     "text": [
      "[Parallel(n_jobs=-1)]: Using backend LokyBackend with 4 concurrent workers.\n",
      "[Parallel(n_jobs=-1)]: Done   5 tasks      | elapsed:    0.9s\n",
      "[Parallel(n_jobs=-1)]: Done  10 tasks      | elapsed:    2.1s\n",
      "[Parallel(n_jobs=-1)]: Done  17 tasks      | elapsed:  1.8min\n",
      "[Parallel(n_jobs=-1)]: Done  24 tasks      | elapsed:  1.9min\n",
      "[Parallel(n_jobs=-1)]: Done  33 tasks      | elapsed:  2.1min\n",
      "[Parallel(n_jobs=-1)]: Done  42 tasks      | elapsed:  3.6min\n",
      "[Parallel(n_jobs=-1)]: Done  50 out of  50 | elapsed:  4.3min finished\n"
     ]
    },
    {
     "name": "stdout",
     "output_type": "stream",
     "text": [
      "Fitting 5 folds for each of 10 candidates, totalling 50 fits\n"
     ]
    },
    {
     "name": "stderr",
     "output_type": "stream",
     "text": [
      "[Parallel(n_jobs=-1)]: Using backend LokyBackend with 4 concurrent workers.\n",
      "[Parallel(n_jobs=-1)]: Done   5 tasks      | elapsed:    0.8s\n",
      "[Parallel(n_jobs=-1)]: Done  10 tasks      | elapsed:    1.3s\n",
      "[Parallel(n_jobs=-1)]: Done  17 tasks      | elapsed:    3.2s\n",
      "[Parallel(n_jobs=-1)]: Done  24 tasks      | elapsed:  1.6min\n",
      "[Parallel(n_jobs=-1)]: Done  33 tasks      | elapsed:  1.7min\n",
      "[Parallel(n_jobs=-1)]: Done  42 tasks      | elapsed:  2.9min\n",
      "[Parallel(n_jobs=-1)]: Done  50 out of  50 | elapsed:  3.5min finished\n"
     ]
    },
    {
     "name": "stdout",
     "output_type": "stream",
     "text": [
      "Fitting 5 folds for each of 10 candidates, totalling 50 fits\n"
     ]
    },
    {
     "name": "stderr",
     "output_type": "stream",
     "text": [
      "[Parallel(n_jobs=-1)]: Using backend LokyBackend with 4 concurrent workers.\n",
      "[Parallel(n_jobs=-1)]: Done   5 tasks      | elapsed:    0.7s\n",
      "[Parallel(n_jobs=-1)]: Done  10 tasks      | elapsed:    1.1s\n",
      "[Parallel(n_jobs=-1)]: Done  17 tasks      | elapsed:   14.9s\n",
      "[Parallel(n_jobs=-1)]: Done  24 tasks      | elapsed:   39.3s\n",
      "[Parallel(n_jobs=-1)]: Done  33 tasks      | elapsed:  2.4min\n",
      "[Parallel(n_jobs=-1)]: Done  42 tasks      | elapsed:  3.9min\n",
      "[Parallel(n_jobs=-1)]: Done  50 out of  50 | elapsed:  4.8min finished\n"
     ]
    },
    {
     "name": "stdout",
     "output_type": "stream",
     "text": [
      "Fitting 5 folds for each of 10 candidates, totalling 50 fits\n"
     ]
    },
    {
     "name": "stderr",
     "output_type": "stream",
     "text": [
      "[Parallel(n_jobs=-1)]: Using backend LokyBackend with 4 concurrent workers.\n",
      "[Parallel(n_jobs=-1)]: Done   5 tasks      | elapsed:    4.0s\n",
      "[Parallel(n_jobs=-1)]: Done  10 tasks      | elapsed:   16.7s\n",
      "[Parallel(n_jobs=-1)]: Done  17 tasks      | elapsed:   40.8s\n",
      "[Parallel(n_jobs=-1)]: Done  24 tasks      | elapsed:  2.6min\n",
      "[Parallel(n_jobs=-1)]: Done  33 tasks      | elapsed:  3.2min\n",
      "[Parallel(n_jobs=-1)]: Done  42 tasks      | elapsed:  4.5min\n",
      "[Parallel(n_jobs=-1)]: Done  50 out of  50 | elapsed:  5.2min finished\n"
     ]
    },
    {
     "name": "stdout",
     "output_type": "stream",
     "text": [
      "Fitting 5 folds for each of 10 candidates, totalling 50 fits\n"
     ]
    },
    {
     "name": "stderr",
     "output_type": "stream",
     "text": [
      "[Parallel(n_jobs=-1)]: Using backend LokyBackend with 4 concurrent workers.\n",
      "[Parallel(n_jobs=-1)]: Done   5 tasks      | elapsed:    1.3s\n",
      "[Parallel(n_jobs=-1)]: Done  10 tasks      | elapsed:    1.9s\n",
      "[Parallel(n_jobs=-1)]: Done  17 tasks      | elapsed:    5.2s\n",
      "[Parallel(n_jobs=-1)]: Done  24 tasks      | elapsed:  1.4min\n",
      "[Parallel(n_jobs=-1)]: Done  33 tasks      | elapsed:  3.1min\n",
      "[Parallel(n_jobs=-1)]: Done  42 tasks      | elapsed:  3.4min\n",
      "[Parallel(n_jobs=-1)]: Done  50 out of  50 | elapsed:  5.6min finished\n"
     ]
    },
    {
     "name": "stdout",
     "output_type": "stream",
     "text": [
      "OVERALL CROSS-VALIDATED SCORE\n",
      "\n",
      "Fold 1 cross-val score: -8595.5709\n",
      "Fold 2 cross-val score: -8513.5626\n",
      "Fold 3 cross-val score: -8699.4224\n",
      "Fold 4 cross-val score: -8455.3829\n",
      "Fold 5 cross-val score: -9054.8228\n",
      "\n",
      "Mean cross-val. score: -8663.752304536669\n"
     ]
    }
   ],
   "source": [
    "# Nested cross-validation to find best parameters for Lasso regression\n",
    "warnings.simplefilter(\"ignore\")\n",
    "\n",
    "inner_cv = KFold(n_splits=5, shuffle=True, random_state=1234)\n",
    "outer_cv = KFold(n_splits=5, shuffle=True, random_state=1234)\n",
    "\n",
    "polyLassoModel = Pipeline([(\"poly\", PolynomialFeatures(include_bias=True)),\n",
    "                           (\"scaler\", MinMaxScaler()),\n",
    "                           (\"lasso\", linear_model.Lasso())])\n",
    "\n",
    "searchParam = dict(poly__degree=polyParam,\n",
    "                   lasso__alpha=alphaParam)\n",
    "\n",
    "bestLassoModel = RandomizedSearchCV(estimator=polyLassoModel,\n",
    "                                    param_distributions=searchParam,\n",
    "                                    scoring=\"neg_mean_squared_error\",\n",
    "                                    cv=inner_cv,\n",
    "                                    refit=True,\n",
    "                                    return_train_score=True,\n",
    "                                    n_iter=10, n_jobs=-1, verbose=10)\n",
    "\n",
    "# Get search results\n",
    "bestLassoModel.fit(X,y)\n",
    "search_results(bestLassoModel)\n",
    "\n",
    "lasso_cv_scores = cross_val_score(bestLassoModel, X, y, cv=outer_cv)\n",
    "cv_results(lasso_cv_scores)"
   ]
  },
  {
   "cell_type": "code",
   "execution_count": null,
   "metadata": {},
   "outputs": [],
   "source": []
  }
 ],
 "metadata": {
  "kernelspec": {
   "display_name": "Python 3",
   "language": "python",
   "name": "python3"
  },
  "language_info": {
   "codemirror_mode": {
    "name": "ipython",
    "version": 3
   },
   "file_extension": ".py",
   "mimetype": "text/x-python",
   "name": "python",
   "nbconvert_exporter": "python",
   "pygments_lexer": "ipython3",
   "version": "3.7.7"
  }
 },
 "nbformat": 4,
 "nbformat_minor": 4
}
